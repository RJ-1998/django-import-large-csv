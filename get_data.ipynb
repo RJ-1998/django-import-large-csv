{
 "cells": [
  {
   "cell_type": "code",
   "execution_count": 10,
   "source": [
    "import requests\n",
    "import csv"
   ],
   "outputs": [],
   "metadata": {}
  },
  {
   "cell_type": "code",
   "execution_count": 8,
   "source": [
    "r = requests.get(url=\"https://swapi.dev/api/people/\")\n",
    "data = r.json()[\"results\"]"
   ],
   "outputs": [],
   "metadata": {}
  },
  {
   "cell_type": "code",
   "execution_count": 11,
   "source": [
    "FILE_HEADERS = [\"NAME\",\"HEIGHT\",\"MASS\",\"HAIR COLOR\",\"SKIN COLOR\",\"EYE COLOR\",\"BIRTH YEAR\",\"GENDER\"]\n"
   ],
   "outputs": [],
   "metadata": {}
  },
  {
   "cell_type": "code",
   "execution_count": 13,
   "source": [
    "print(data[0])"
   ],
   "outputs": [
    {
     "output_type": "stream",
     "name": "stdout",
     "text": [
      "{'name': 'Luke Skywalker', 'height': '172', 'mass': '77', 'hair_color': 'blond', 'skin_color': 'fair', 'eye_color': 'blue', 'birth_year': '19BBY', 'gender': 'male', 'homeworld': 'https://swapi.dev/api/planets/1/', 'films': ['https://swapi.dev/api/films/1/', 'https://swapi.dev/api/films/2/', 'https://swapi.dev/api/films/3/', 'https://swapi.dev/api/films/6/'], 'species': [], 'vehicles': ['https://swapi.dev/api/vehicles/14/', 'https://swapi.dev/api/vehicles/30/'], 'starships': ['https://swapi.dev/api/starships/12/', 'https://swapi.dev/api/starships/22/'], 'created': '2014-12-09T13:50:51.644000Z', 'edited': '2014-12-20T21:17:56.891000Z', 'url': 'https://swapi.dev/api/people/1/'}\n"
     ]
    }
   ],
   "metadata": {}
  },
  {
   "cell_type": "code",
   "execution_count": 28,
   "source": [
    "with open(\"./characters.csv\",\"w\",encoding=\"UTF8\") as f:\n",
    "    writer = csv.writer(f)\n",
    "    writer.writerow(FILE_HEADERS)\n",
    "    for j in range(1,82):\n",
    "        r = requests.get(url=\"https://swapi.dev/api/people/{page}\".format(page=j))\n",
    "        data = r.json()            \n",
    "        new_row = []\n",
    "        new_row.append(data['name'] if data.get(\"name\") else \"\")\n",
    "        new_row.append(data['height'] if data.get(\"height\") else \"\")\n",
    "        new_row.append(data['mass'] if data.get(\"mass\") else \"\")\n",
    "        new_row.append(data['hair_color'] if data.get(\"hair_color\") else \"\")\n",
    "        new_row.append(data['skin_color'] if data.get(\"skin_color\") else \"\")\n",
    "        new_row.append(data['eye_color'] if data.get(\"eye_color\") else \"\")\n",
    "        new_row.append(data['birth_year'] if data.get(\"birth_year\") else \"\")\n",
    "        new_row.append(data['gender'] if data.get(\"gender\") else \"\")\n",
    "        writer.writerow(new_row)"
   ],
   "outputs": [],
   "metadata": {}
  },
  {
   "cell_type": "code",
   "execution_count": null,
   "source": [],
   "outputs": [],
   "metadata": {}
  }
 ],
 "metadata": {
  "orig_nbformat": 4,
  "language_info": {
   "name": "python",
   "version": "3.8.10",
   "mimetype": "text/x-python",
   "codemirror_mode": {
    "name": "ipython",
    "version": 3
   },
   "pygments_lexer": "ipython3",
   "nbconvert_exporter": "python",
   "file_extension": ".py"
  },
  "kernelspec": {
   "name": "python3",
   "display_name": "Python 3.8.10 64-bit ('venv': venv)"
  },
  "interpreter": {
   "hash": "ba4b09e9a9a261aaf5f27abe24e64a665a3c9ceebb950a889055514c08758b50"
  }
 },
 "nbformat": 4,
 "nbformat_minor": 2
}